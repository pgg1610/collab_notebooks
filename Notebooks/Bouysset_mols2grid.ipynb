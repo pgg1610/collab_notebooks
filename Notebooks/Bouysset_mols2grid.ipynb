{
  "cells": [
    {
      "cell_type": "markdown",
      "metadata": {
        "id": "view-in-github",
        "colab_type": "text"
      },
      "source": [
        "<a href=\"https://colab.research.google.com/github/pgg1610/collab_notebooks/blob/main/Notebooks/Bouysset_mols2grid.ipynb\" target=\"_parent\"><img src=\"https://colab.research.google.com/assets/colab-badge.svg\" alt=\"Open In Colab\"/></a>"
      ]
    },
    {
      "cell_type": "markdown",
      "metadata": {
        "id": "QtF7yKGGFdJ3"
      },
      "source": [
        "# Interactive visualization and filtering of small molecule datasets with mols2grid\n",
        "\n",
        "A (short) tutorial by Cédric Bouysset - RDKit UGM 2021\n",
        "\n",
        "\n",
        "<a href=\"https://colab.research.google.com/github/cbouy/UGM_2021/blob/main/Notebooks/Bouysset_mols2grid.ipynb\"><img src=\"https://colab.research.google.com/assets/colab-badge.svg\" align=\"left\" alt=\"Open In Colab\"/></a>\n",
        "\n",
        "\n",
        "<a href=\"https://www.rdkit.org/\"><img src=\"https://img.shields.io/static/v1?label=Powered%20by&message=RDKit&color=3838ff&style=flat&logo=data:image/x-icon;base64,AAABAAEAEBAQAAAAAABoAwAAFgAAACgAAAAQAAAAIAAAAAEAGAAAAAAAAAMAABILAAASCwAAAAAAAAAAAADc3Nzc3Nzc3Nzc3Nzc3Nzc3Nzc3Nzc3Nzc3Nzc3Nzc3Nzc3Nzc3Nzc3Nzc3Nzc3Nzc3Nzc3Nzc3Nzc3Nzc3Nz/FBT/FBT/FBT/FBT/FBT/FBTc3Nzc3Nzc3Nzc3Nzc3Nzc3Nzc3Nzc3Nzc3Nz/FBT/PBT/PBT/PBT/PBT/PBT/PBT/FBTc3Nzc3Nzc3Nzc3Nzc3Nzc3Nzc3Nz/FBT/PBT/ZGT/ZGT/ZGT/ZGT/ZGT/ZGT/PBT/FBTc3Nzc3Nzc3Nzc3Nzc3Nz/FBT/PBT/ZGT/ZGT/ZGT/ZGT/ZGT/ZGT/ZGT/ZGT/PBT/FBTc3Nzc3Nzc3Nz/FBT/PBT/ZGT/ZGT/ZGT/jIz/jIz/jIz/jIz/ZGT/ZGT/ZGT/PBT/FBTc3Nzc3Nz/FBT/PBT/ZGT/ZGT/jIz/jIz/jIz/jIz/jIz/jIz/ZGT/ZGT/PBT/FBTc3Nzc3Nz/FBT/PBT/ZGT/ZGT/jIz/jIz/tLT/tLT/jIz/jIz/ZGT/ZGT/PBT/FBTc3Nzc3Nz/FBT/PBT/ZGT/ZGT/jIz/jIz/tLT/tLT/jIz/jIz/ZGT/ZGT/PBT/FBTc3Nzc3Nz/FBT/PBT/ZGT/ZGT/jIz/jIz/jIz/jIz/jIz/jIz/ZGT/ZGT/PBT/FBTc3Nzc3Nz/FBT/PBT/ZGT/ZGT/ZGT/jIz/jIz/jIz/jIz/ZGT/ZGT/ZGT/PBT/FBTc3Nzc3Nzc3Nz/FBT/PBT/ZGT/ZGT/ZGT/ZGT/ZGT/ZGT/ZGT/ZGT/PBT/FBTc3Nzc3Nzc3Nzc3Nzc3Nz/FBT/PBT/ZGT/ZGT/ZGT/ZGT/ZGT/ZGT/PBT/FBTc3Nzc3Nzc3Nzc3Nzc3Nzc3Nzc3Nz/FBT/PBT/PBT/PBT/PBT/PBT/PBT/FBTc3Nzc3Nzc3Nzc3Nzc3Nzc3Nzc3Nzc3Nzc3Nz/FBT/FBT/FBT/FBT/FBT/FBTc3Nzc3Nzc3Nzc3Nzc3Nzc3Nzc3Nzc3Nzc3Nzc3Nzc3Nzc3Nzc3Nzc3Nzc3Nzc3Nzc3Nzc3Nzc3Nzc3Nzc3Nz/////+B////AP///gB///wAP//4AB//+AAf//gAH//4AB//+AAf//gAH//8AD///gB///8A////gf////////\" align=\"left\"/></a><br>\n",
        "\n",
        "`mols2grid` is a Python package for 2D molecular visualization, focused on Jupyter notebooks.\n",
        "\n",
        "💻 **GitHub**: https://github.com/cbouy/mols2grid\n",
        "\n",
        "👏 **Acknowledgments**:\n",
        "* Contributors: [@fredrikw](https://github.com/fredrikw), [@JustinChavez](https://github.com/JustinChavez)\n",
        "* Conda maintainer: [@hadim](https://github.com/hadim)\n",
        "* Tutorials/code snippets: [@PatWalters](https://practicalcheminformatics.blogspot.com/2021/07/viewing-clustered-chemical-structures.html), [@czodrowskilab](https://github.com/czodrowskilab/5minfame/blob/main/2021_09_02-czodrowski-mols2grid.ipynb), [@dataprofessor](https://www.youtube.com/watch?v=0rqIwSeUImo), [@iwatobipen](https://iwatobipen.wordpress.com/2021/06/13/draw-molecules-on-jupyter-notebook-rdkit-mols2grid/), [@JustinChavez](https://blog.reverielabs.com/building-web-applications-from-python-scripts-with-streamlit/)\n",
        "\n",
        "This tutorial covers the basics on how to use mols2grid and some more advanced use cases.  \n",
        "It requires beginner knowledge with pandas and RDKit, and for the (optional) more advanced features some beginner knowledge in JavaScript, HTML and CSS may be necessary."
      ]
    },
    {
      "cell_type": "code",
      "execution_count": null,
      "metadata": {
        "id": "kZEYN1bHFdJ6"
      },
      "outputs": [],
      "source": [
        "# Install requirements for the tutorial\n",
        "!pip install rdkit-pypi mols2grid ipywidgets py3Dmol"
      ]
    },
    {
      "cell_type": "code",
      "execution_count": null,
      "metadata": {
        "id": "cL-ix7NZFdJ7"
      },
      "outputs": [],
      "source": [
        "import mols2grid\n",
        "import pandas as pd\n",
        "from rdkit import Chem\n",
        "from rdkit.Chem import Descriptors, Draw\n",
        "from ipywidgets import interact, widgets\n",
        "import urllib\n",
        "from IPython.display import display\n",
        "import py3Dmol"
      ]
    },
    {
      "cell_type": "markdown",
      "metadata": {
        "id": "FzJVRPJhFdJ7"
      },
      "source": [
        "## The data\n",
        "\n",
        "List of drugs approved by the FDA and others downloaded from [DrugCentral](https://drugcentral.org/), prefiltered to only contain the first 200 compounds with a molecular weight below 600 g/mol. You can get the raw dataset [here](https://unmtid-shinyapps.net/download/DrugCentral/20200516/structures.smiles.tsv)."
      ]
    },
    {
      "cell_type": "code",
      "execution_count": null,
      "metadata": {
        "scrolled": true,
        "id": "mHuRMqyWFdJ8"
      },
      "outputs": [],
      "source": [
        "# read the dataset\n",
        "df = pd.read_csv(\"https://raw.githubusercontent.com/cbouy/UGM_2021/main/Notebooks/data/drugcentral_filtered.tsv\", sep=\"\\t\")\n",
        "df[\"mol\"] = df[\"SMILES\"].apply(Chem.MolFromSmiles)\n",
        "# compute some descriptors\n",
        "df[\"MolWt\"] = df[\"mol\"].apply(Descriptors.ExactMolWt)\n",
        "df[\"LogP\"] = df[\"mol\"].apply(Descriptors.MolLogP)\n",
        "df[\"NumHDonors\"] = df[\"mol\"].apply(Descriptors.NumHDonors)\n",
        "df[\"NumHAcceptors\"] = df[\"mol\"].apply(Descriptors.NumHAcceptors)\n",
        "# reformat the dataframe\n",
        "df.drop(columns=[\"mol\"], inplace=True)\n",
        "df.rename(columns={\"INN\": \"Name\", \"CAS_RN\": \"CAS\"}, inplace=True)\n",
        "print(f\"{len(df)} molecules read\")\n",
        "df.head()"
      ]
    },
    {
      "cell_type": "markdown",
      "metadata": {
        "id": "dbACl-Q6FdJ8"
      },
      "source": [
        "## The basics\n",
        "\n",
        "- The input can be a DataFrame, a list of RDKit molecules, or an SDFile. The other arguments are optional."
      ]
    },
    {
      "cell_type": "code",
      "execution_count": null,
      "metadata": {
        "scrolled": false,
        "id": "rByKzHJpFdJ9"
      },
      "outputs": [],
      "source": [
        "mols2grid.display(\n",
        "    df,\n",
        "    # set the fields  displayed on the grid\n",
        "    subset=[\"ID\", \"img\", \"CAS\"],\n",
        "    # set the fields displayed on mouse hover\n",
        "    tooltip=[\"Name\", \"MolWt\"],\n",
        ")"
      ]
    },
    {
      "cell_type": "markdown",
      "metadata": {
        "id": "EMrxDgXMFdJ9"
      },
      "source": [
        "- You can make simple text searches using the text bar on the bottom right: try with `acid` for example\n",
        "- But we can also make substructure queries by clicking on 🔎 > SMARTS and search for `C(=O)-[OH]`\n",
        "- Next, let's sort our molecules by molecular weight (click again to reverse the order)\n",
        "- Finally, select a couple of molecules (click on the checkbox) and you can then export you selection to a SMILES file (clipboard copy is blocked on Colab unfortunately)"
      ]
    },
    {
      "cell_type": "markdown",
      "metadata": {
        "id": "OYSxstWoFdJ-"
      },
      "source": [
        "The main point of mols2grid is that the widget let's you access your selections from Python afterwards:"
      ]
    },
    {
      "cell_type": "code",
      "execution_count": null,
      "metadata": {
        "id": "g88IHxRRFdJ-"
      },
      "outputs": [],
      "source": [
        "mols2grid.get_selection()"
      ]
    },
    {
      "cell_type": "code",
      "execution_count": null,
      "metadata": {
        "id": "22va7Ex2FdJ_"
      },
      "outputs": [],
      "source": [
        "# retrieve the corresponding entries in the dataframe\n",
        "df.iloc[list(mols2grid.get_selection().keys())]"
      ]
    },
    {
      "cell_type": "markdown",
      "metadata": {
        "id": "ka0gHmJpFdJ_"
      },
      "source": [
        "## Interactive filtering\n",
        "\n",
        "Let's add more options for filtering the grid!\n",
        "\n",
        "We'll use ipywidgets to add sliders for the molecular weight and the other molecular descriptors, and define a function that queries the internal dataframe using the values in the sliders.\n",
        "Everytime the sliders are moved, the function is called to filter our grid."
      ]
    },
    {
      "cell_type": "code",
      "execution_count": null,
      "metadata": {
        "scrolled": false,
        "id": "3hpy4OL6FdJ_"
      },
      "outputs": [],
      "source": [
        "grid = mols2grid.MolGrid(df, name=\"filters\")\n",
        "view = grid.display(\n",
        "    n_rows=2,\n",
        "    subset=[\"ID\", \"img\", \"CAS\"],\n",
        "    tooltip=[\"Name\", \"MolWt\", \"LogP\", \"NumHDonors\", \"NumHAcceptors\"],\n",
        ")\n",
        "\n",
        "@interact(\n",
        "    MolWt=widgets.IntRangeSlider(value=[0, 600], min=0, max=600, step=10),\n",
        "    LogP=widgets.IntRangeSlider(value=[-10, 10], min=-10, max=10, step=1),\n",
        "    NumHDonors=widgets.IntRangeSlider(value=[0, 20], min=0, max=20, step=1),\n",
        "    NumHAcceptors=widgets.IntRangeSlider(value=[0, 20], min=0, max=20, step=1),\n",
        ")\n",
        "def filter_grid(MolWt, LogP, NumHDonors, NumHAcceptors):\n",
        "    results = grid.dataframe.query(\n",
        "        \"@MolWt[0] <= MolWt <= @MolWt[1] and \"\n",
        "        \"@LogP[0] <= LogP <= @LogP[1] and \"\n",
        "        \"@NumHDonors[0] <= NumHDonors <= @NumHDonors[1] and \"\n",
        "        \"@NumHAcceptors[0] <= NumHAcceptors <= @NumHAcceptors[1]\"\n",
        "    )\n",
        "    return grid.filter_by_index(results.index)\n",
        "\n",
        "view"
      ]
    },
    {
      "cell_type": "markdown",
      "metadata": {
        "id": "dATHsb84FdJ_"
      },
      "source": [
        "Another advantage of using `mols2grid.MolGrid` instead of `mols2grid.display`: you get a shortcut for getting your selection as a DataFrame (equivalent to `df.iloc[list(mols2grid.get_selection().keys())]`)"
      ]
    },
    {
      "cell_type": "code",
      "execution_count": null,
      "metadata": {
        "id": "S0tKcifDFdKA"
      },
      "outputs": [],
      "source": [
        "grid.get_selection()"
      ]
    },
    {
      "cell_type": "markdown",
      "metadata": {
        "id": "PNvHVIV6FdKA"
      },
      "source": [
        "## Callbacks\n",
        "\n",
        "Callbacks are **functions that are executed when you click on a molecule's image**. They can be written in *JavaScript* or *Python*.\n",
        "\n",
        "It can be used to display some additional information on the molecule or run some more complex code like database queries,  docking or machine-learning predictions.\n",
        "\n",
        "For Python callbacks, you need to declare a function that takes a dictionnary as first argument. This dictionnary contains all the data related to the molecule you've just clicked on. For example, the SMILES of the molecule will be available as `data[\"SMILES\"]`.\n",
        "\n",
        "One limitation to keep in mind for Python callbacks is that using print or any other \"output\" functions inside the callback will not display anything by default. You need to use ipywidgets's `Output` widget to capture what the function is trying to display, and then show it."
      ]
    },
    {
      "cell_type": "code",
      "execution_count": null,
      "metadata": {
        "id": "XDyrD8RyFdKA"
      },
      "outputs": [],
      "source": [
        "output = widgets.Output()\n",
        "# the Output widget let's us capture the output generated by the callback function\n",
        "# its presence is mandatory if you want to print/display some info with your callback\n",
        "@output.capture(clear_output=True, wait=True)\n",
        "def show_3d(data):\n",
        "    \"\"\"Query PubChem to download the SDFile with 3D coordinates and\n",
        "    display the molecule with py3Dmol\n",
        "    \"\"\"\n",
        "    url = \"https://pubchem.ncbi.nlm.nih.gov/rest/pug/compound/smiles/{}/SDF?record_type=3d\"\n",
        "    smi = urllib.parse.quote(data[\"SMILES\"])\n",
        "    try:\n",
        "        response = urllib.request.urlopen(url.format(smi))\n",
        "    except urllib.error.HTTPError:\n",
        "        print(f\"Could not find corresponding match on PubChem\")\n",
        "        print(data[\"SMILES\"])\n",
        "    else:\n",
        "        sdf = response.read().decode()\n",
        "        view = py3Dmol.view(height=300, width=800)\n",
        "        view.addModel(sdf, \"sdf\")\n",
        "        view.setStyle({'stick': {}})\n",
        "        view.zoomTo()\n",
        "        view.show()\n",
        "\n",
        "## Google Colab requirement\n",
        "try:\n",
        "    from google import colab\n",
        "except:\n",
        "    pass\n",
        "else:\n",
        "    colab.output.register_callback(\"show_3d\", show_3d)\n",
        "##\n",
        "\n",
        "g = grid.display(\n",
        "    subset=[\"ID\", \"img\", \"Name\"],\n",
        "    tooltip_trigger=\"hover\",\n",
        "    callback=show_3d,\n",
        ")\n",
        "display(g)\n",
        "output"
      ]
    },
    {
      "cell_type": "markdown",
      "metadata": {
        "id": "BVF07AeCFdKA"
      },
      "source": [
        "You can also use JavaScript callbacks. JS callbacks don't require to declare a function, and you can directly access and use the `data` object similarly to Python in your callback script. The callback could then be as simple as `callback=\"console.log(JSON.stringify(data))\"`\n",
        "\n",
        "To display popup windows on click, a helper function is available: `mols2grid.make_popup_callback`. It requires a `title` as well as some `html` code to format and display the information that you'd like to show. All of the values inside the `data` object can be inserted in the title and html arguments using `${data[\"field_name\"]}`. Additionally, you can execute a prerequisite JavaScript snippet to create variables that are then accessible in the html code.\n",
        "\n",
        "In the following exemple, we create an RDKit molecule using the SMILES of the molecule (the `SMILES` field is always present in the data object, no matter your input when creating the grid). We then create an SVG image of the molecule, and calculate some descriptors. Finally, we inject these variables inside the HTML code. You can also style the popup window through the `style` argument.\n",
        "\n",
        "You can also define your own JS callback from scratch, depending on your needs.\n",
        "\n",
        "It is possible to load additional JS libraries by passing `custom_header=\"<script src=...></script>\"` to `mols2grid.display`, and they will then be available in the callback."
      ]
    },
    {
      "cell_type": "code",
      "execution_count": null,
      "metadata": {
        "id": "3sg1PWfzFdKB"
      },
      "outputs": [],
      "source": [
        "callback = mols2grid.make_popup_callback(\n",
        "    title=\"${data['Name']}\",\n",
        "    js=\"\"\"\n",
        "        var mol = RDKitModule.get_mol(data[\"SMILES\"]);\n",
        "        var svg = mol.get_svg(400, 300);\n",
        "        var desc = JSON.parse(mol.get_descriptors());\n",
        "        mol.delete();\n",
        "    \"\"\",\n",
        "    html=\"\"\"\n",
        "        <div class=\"row\">\n",
        "          <div class=\"col\">${svg}</div>\n",
        "          <div class=\"col\">\n",
        "            <b>Molecular weight</b>: ${desc.amw}<br/>\n",
        "            <b>HBond Acceptors</b>: ${desc.NumHBA}<br/>\n",
        "            <b>HBond Donors</b>: ${desc.NumHBD}<br/>\n",
        "            <b>ClogP</b>: ${desc.CrippenClogP}<br/>\n",
        "          </div>\n",
        "        </div>\"\"\",\n",
        "    style=\"max-width: 80%;\",\n",
        ")\n",
        "\n",
        "grid.display(\n",
        "    subset=[\"ID\", \"img\", \"Name\"],\n",
        "    tooltip_trigger=\"hover\",\n",
        "    callback=callback,\n",
        ")"
      ]
    },
    {
      "cell_type": "code",
      "execution_count": null,
      "metadata": {
        "id": "M_KPdeD2FdKB"
      },
      "outputs": [],
      "source": [
        "print(callback)"
      ]
    },
    {
      "cell_type": "markdown",
      "metadata": {
        "id": "uk9iZKK4FdKB"
      },
      "source": [
        "## Advanced customization\n",
        "\n",
        "You can have full control on how molecules and the grid are rendered:"
      ]
    },
    {
      "cell_type": "code",
      "execution_count": null,
      "metadata": {
        "scrolled": false,
        "id": "1abcCeLWFdKB"
      },
      "outputs": [],
      "source": [
        "# custom drawing options for molecules:\n",
        "opts = Draw.MolDrawOptions()\n",
        "# white carbon and hydrogen atoms\n",
        "opts.updateAtomPalette({x: (1, 1, 1) for x in [1, 6]})\n",
        "# lighter blue for nitrogen\n",
        "opts.updateAtomPalette({7: (.4, .4, 1)})\n",
        "# transparent background\n",
        "opts.clearBackground = False\n",
        "# greg's favorite 🤡\n",
        "opts.comicMode = True\n",
        "\n",
        "# put the background of each cell in black with white font\n",
        "custom_css = \"\"\"\n",
        ".cell { \n",
        "    background-color: black;\n",
        "    color: white;\n",
        "}\n",
        "\"\"\"\n",
        "\n",
        "def lipinsky(item):\n",
        "    \"\"\"Colors cells in dark blue if they don't follow Lipinsky's rules\"\"\"\n",
        "    if not (\n",
        "        (item[\"MolWt\"] < 500) and \n",
        "        (item[\"NumHDonors\"] <= 5) and\n",
        "        (item[\"NumHAcceptors\"] <= 10) and\n",
        "        (item[\"LogP\"] < 5)\n",
        "    ):\n",
        "        return \"background-color: navy;\"\n",
        "    return \"\"\n",
        "\n",
        "mols2grid.display(\n",
        "    df.sample(45),\n",
        "    subset=[\"ID\", \"img\", \"CAS\"],\n",
        "    tooltip=[\"Name\", \"CAS\", \"MolWt\", \"LogP\", \"NumHDonors\", \"NumHAcceptors\"],\n",
        "    size=(180, 180),\n",
        "    n_columns=4, n_rows=2,\n",
        "    MolDrawOptions=opts,\n",
        "    custom_css=custom_css,\n",
        "    hover_color=\"#727272\",\n",
        "    border=\"2px solid #333\",\n",
        "    # modify the style of some fields (MolWt), or of the entire cell (__all__)\n",
        "    style={\n",
        "        \"MolWt\": lambda x: \"color: red\" if x > 500 else \"\",\n",
        "        \"__all__\": lipinsky,\n",
        "    },\n",
        "    # modify some fields (less significant digits in this case)\n",
        "    transform={\n",
        "        \"MolWt\": lambda x: round(x, 1),\n",
        "        \"LogP\": lambda x: round(x, 1)\n",
        "    },\n",
        "    # hide checkboxes\n",
        "    selection=False,\n",
        "    name=\"customization\",\n",
        ")        "
      ]
    }
  ],
  "metadata": {
    "kernelspec": {
      "display_name": "Python 3 (ipykernel)",
      "language": "python",
      "name": "python3"
    },
    "language_info": {
      "codemirror_mode": {
        "name": "ipython",
        "version": 3
      },
      "file_extension": ".py",
      "mimetype": "text/x-python",
      "name": "python",
      "nbconvert_exporter": "python",
      "pygments_lexer": "ipython3",
      "version": "3.9.7"
    },
    "rise": {
      "scroll": true
    },
    "colab": {
      "name": "Bouysset_mols2grid.ipynb",
      "provenance": [],
      "include_colab_link": true
    }
  },
  "nbformat": 4,
  "nbformat_minor": 0
}